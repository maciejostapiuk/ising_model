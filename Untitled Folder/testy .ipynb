{
 "cells": [
  {
   "cell_type": "code",
   "execution_count": 2,
   "id": "c74c20dd",
   "metadata": {},
   "outputs": [],
   "source": [
    "import scipy.stats as st \n",
    "import scipy \n",
    "import numpy \n",
    "import matplotlib.pyplot as plt \n",
    "import math"
   ]
  },
  {
   "cell_type": "code",
   "execution_count": 13,
   "id": "307436de",
   "metadata": {},
   "outputs": [
    {
     "data": {
      "text/plain": [
       "0.6319596579700315"
      ]
     },
     "execution_count": 13,
     "metadata": {},
     "output_type": "execute_result"
    }
   ],
   "source": [
    "sam = st.norm.rvs(size = 100)\n",
    "st.ks_1samp(sam, st.norm.cdf)[1]"
   ]
  },
  {
   "cell_type": "code",
   "execution_count": 16,
   "id": "befd4c4a",
   "metadata": {},
   "outputs": [
    {
     "data": {
      "text/plain": [
       "(array([1.01207406, 1.03707589, 0.98307194, 1.05407714, 1.02707516,\n",
       "        1.01907458, 0.95306975, 0.98207187, 0.98907238, 0.94406909]),\n",
       " array([2.68763166e-05, 1.00019558e-01, 2.00012240e-01, 3.00004922e-01,\n",
       "        3.99997604e-01, 4.99990286e-01, 5.99982968e-01, 6.99975650e-01,\n",
       "        7.99968332e-01, 8.99961014e-01, 9.99953696e-01]),\n",
       " <BarContainer object of 10 artists>)"
      ]
     },
     "execution_count": 16,
     "metadata": {},
     "output_type": "execute_result"
    },
    {
     "data": {
      "image/png": "[encoded data removed]",
      "text/plain": [
       "<Figure size 640x480 with 1 Axes>"
      ]
     },
     "metadata": {},
     "output_type": "display_data"
    }
   ],
   "source": [
    "p_values = []\n",
    "for p in range(10000):\n",
    "    sample = st.norm.rvs(size=10000)\n",
    "    p_values.append(st.ks_1samp(sample, st.norm.cdf)[1])\n",
    "plt.hist(p_values, density = True)"
   ]
  },
  {
   "cell_type": "code",
   "execution_count": null,
   "id": "d5a095b3",
   "metadata": {},
   "outputs": [],
   "source": []
  }
 ],
 "metadata": {
  "kernelspec": {
   "display_name": "Python 3 (ipykernel)",
   "language": "python",
   "name": "python3"
  },
  "language_info": {
   "codemirror_mode": {
    "name": "ipython",
    "version": 3
   },
   "file_extension": ".py",
   "mimetype": "text/x-python",
   "name": "python",
   "nbconvert_exporter": "python",
   "pygments_lexer": "ipython3",
   "version": "3.10.10"
  }
 },
 "nbformat": 4,
 "nbformat_minor": 5
}
